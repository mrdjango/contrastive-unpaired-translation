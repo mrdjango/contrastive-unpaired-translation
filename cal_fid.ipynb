{
 "cells": [
  {
   "cell_type": "code",
   "execution_count": 1,
   "metadata": {},
   "outputs": [
    {
     "name": "stderr",
     "output_type": "stream",
     "text": [
      "/home/mrmc/miniconda3/envs/contrastive-unpaired-translation/lib/python3.6/site-packages/tqdm/auto.py:22: TqdmWarning: IProgress not found. Please update jupyter and ipywidgets. See https://ipywidgets.readthedocs.io/en/stable/user_install.html\n",
      "  from .autonotebook import tqdm as notebook_tqdm\n"
     ]
    }
   ],
   "source": [
    "from cleanfid import fid"
   ]
  },
  {
   "cell_type": "code",
   "execution_count": 17,
   "metadata": {},
   "outputs": [
    {
     "name": "stdout",
     "output_type": "stream",
     "text": [
      "compute FID between two folders\n",
      "Found 88 images in the folder results/grumpycat_CUT/test_5/images/fake_B/\n"
     ]
    },
    {
     "name": "stderr",
     "output_type": "stream",
     "text": [
      "FID  : 100%|██████████| 3/3 [00:01<00:00,  2.62it/s]\n"
     ]
    },
    {
     "name": "stdout",
     "output_type": "stream",
     "text": [
      "Found 214 images in the folder test/testB/\n"
     ]
    },
    {
     "name": "stderr",
     "output_type": "stream",
     "text": [
      "FID  : 100%|██████████| 7/7 [00:01<00:00,  6.14it/s]\n"
     ]
    },
    {
     "name": "stdout",
     "output_type": "stream",
     "text": [
      "rrrrrrrrrr 88 214 (2048,) (2048,)\n",
      "compute FID between two folders\n",
      "Found 88 images in the folder results/grumpycat_CUT/test_10/images/fake_B/\n"
     ]
    },
    {
     "name": "stderr",
     "output_type": "stream",
     "text": [
      "FID  : 100%|██████████| 3/3 [00:01<00:00,  2.59it/s]\n"
     ]
    },
    {
     "name": "stdout",
     "output_type": "stream",
     "text": [
      "Found 214 images in the folder test/testB/\n"
     ]
    },
    {
     "name": "stderr",
     "output_type": "stream",
     "text": [
      "FID  : 100%|██████████| 7/7 [00:01<00:00,  6.20it/s]\n"
     ]
    },
    {
     "name": "stdout",
     "output_type": "stream",
     "text": [
      "rrrrrrrrrr 88 214 (2048,) (2048,)\n",
      "compute FID between two folders\n",
      "Found 88 images in the folder results/grumpycat_CUT/test_15/images/fake_B/\n"
     ]
    },
    {
     "name": "stderr",
     "output_type": "stream",
     "text": [
      "FID  : 100%|██████████| 3/3 [00:01<00:00,  2.59it/s]\n"
     ]
    },
    {
     "name": "stdout",
     "output_type": "stream",
     "text": [
      "Found 214 images in the folder test/testB/\n"
     ]
    },
    {
     "name": "stderr",
     "output_type": "stream",
     "text": [
      "FID  : 100%|██████████| 7/7 [00:01<00:00,  6.04it/s]\n"
     ]
    },
    {
     "name": "stdout",
     "output_type": "stream",
     "text": [
      "rrrrrrrrrr 88 214 (2048,) (2048,)\n",
      "compute FID between two folders\n",
      "Found 88 images in the folder results/grumpycat_CUT/test_20/images/fake_B/\n"
     ]
    },
    {
     "name": "stderr",
     "output_type": "stream",
     "text": [
      "FID  : 100%|██████████| 3/3 [00:01<00:00,  2.70it/s]\n"
     ]
    },
    {
     "name": "stdout",
     "output_type": "stream",
     "text": [
      "Found 214 images in the folder test/testB/\n"
     ]
    },
    {
     "name": "stderr",
     "output_type": "stream",
     "text": [
      "FID  : 100%|██████████| 7/7 [00:01<00:00,  6.17it/s]\n"
     ]
    },
    {
     "name": "stdout",
     "output_type": "stream",
     "text": [
      "rrrrrrrrrr 88 214 (2048,) (2048,)\n",
      "compute FID between two folders\n",
      "Found 88 images in the folder results/grumpycat_CUT/test_25/images/fake_B/\n"
     ]
    },
    {
     "name": "stderr",
     "output_type": "stream",
     "text": [
      "FID  : 100%|██████████| 3/3 [00:01<00:00,  2.65it/s]\n"
     ]
    },
    {
     "name": "stdout",
     "output_type": "stream",
     "text": [
      "Found 214 images in the folder test/testB/\n"
     ]
    },
    {
     "name": "stderr",
     "output_type": "stream",
     "text": [
      "FID  : 100%|██████████| 7/7 [00:01<00:00,  6.35it/s]\n"
     ]
    },
    {
     "name": "stdout",
     "output_type": "stream",
     "text": [
      "rrrrrrrrrr 88 214 (2048,) (2048,)\n",
      "compute FID between two folders\n",
      "Found 88 images in the folder results/grumpycat_CUT/test_30/images/fake_B/\n"
     ]
    },
    {
     "name": "stderr",
     "output_type": "stream",
     "text": [
      "FID  : 100%|██████████| 3/3 [00:01<00:00,  2.67it/s]\n"
     ]
    },
    {
     "name": "stdout",
     "output_type": "stream",
     "text": [
      "Found 214 images in the folder test/testB/\n"
     ]
    },
    {
     "name": "stderr",
     "output_type": "stream",
     "text": [
      "FID  : 100%|██████████| 7/7 [00:01<00:00,  6.34it/s]\n"
     ]
    },
    {
     "name": "stdout",
     "output_type": "stream",
     "text": [
      "rrrrrrrrrr 88 214 (2048,) (2048,)\n",
      "compute FID between two folders\n",
      "Found 88 images in the folder results/grumpycat_CUT/test_35/images/fake_B/\n"
     ]
    },
    {
     "name": "stderr",
     "output_type": "stream",
     "text": [
      "FID  : 100%|██████████| 3/3 [00:01<00:00,  2.65it/s]\n"
     ]
    },
    {
     "name": "stdout",
     "output_type": "stream",
     "text": [
      "Found 214 images in the folder test/testB/\n"
     ]
    },
    {
     "name": "stderr",
     "output_type": "stream",
     "text": [
      "FID  : 100%|██████████| 7/7 [00:01<00:00,  6.36it/s]\n"
     ]
    },
    {
     "name": "stdout",
     "output_type": "stream",
     "text": [
      "rrrrrrrrrr 88 214 (2048,) (2048,)\n",
      "compute FID between two folders\n",
      "Found 88 images in the folder results/grumpycat_CUT/test_40/images/fake_B/\n"
     ]
    },
    {
     "name": "stderr",
     "output_type": "stream",
     "text": [
      "FID  : 100%|██████████| 3/3 [00:01<00:00,  2.67it/s]\n"
     ]
    },
    {
     "name": "stdout",
     "output_type": "stream",
     "text": [
      "Found 214 images in the folder test/testB/\n"
     ]
    },
    {
     "name": "stderr",
     "output_type": "stream",
     "text": [
      "FID  : 100%|██████████| 7/7 [00:01<00:00,  6.33it/s]\n"
     ]
    },
    {
     "name": "stdout",
     "output_type": "stream",
     "text": [
      "rrrrrrrrrr 88 214 (2048,) (2048,)\n",
      "compute FID between two folders\n",
      "Found 88 images in the folder results/grumpycat_CUT/test_45/images/fake_B/\n"
     ]
    },
    {
     "name": "stderr",
     "output_type": "stream",
     "text": [
      "FID  : 100%|██████████| 3/3 [00:01<00:00,  2.63it/s]\n"
     ]
    },
    {
     "name": "stdout",
     "output_type": "stream",
     "text": [
      "Found 214 images in the folder test/testB/\n"
     ]
    },
    {
     "name": "stderr",
     "output_type": "stream",
     "text": [
      "FID  : 100%|██████████| 7/7 [00:01<00:00,  6.38it/s]\n"
     ]
    },
    {
     "name": "stdout",
     "output_type": "stream",
     "text": [
      "rrrrrrrrrr 88 214 (2048,) (2048,)\n",
      "compute FID between two folders\n",
      "Found 88 images in the folder results/grumpycat_CUT/test_50/images/fake_B/\n"
     ]
    },
    {
     "name": "stderr",
     "output_type": "stream",
     "text": [
      "FID  : 100%|██████████| 3/3 [00:01<00:00,  2.65it/s]\n"
     ]
    },
    {
     "name": "stdout",
     "output_type": "stream",
     "text": [
      "Found 214 images in the folder test/testB/\n"
     ]
    },
    {
     "name": "stderr",
     "output_type": "stream",
     "text": [
      "FID  : 100%|██████████| 7/7 [00:01<00:00,  6.28it/s]\n"
     ]
    },
    {
     "name": "stdout",
     "output_type": "stream",
     "text": [
      "rrrrrrrrrr 88 214 (2048,) (2048,)\n",
      "compute FID between two folders\n",
      "Found 88 images in the folder results/grumpycat_CUT/test_55/images/fake_B/\n"
     ]
    },
    {
     "name": "stderr",
     "output_type": "stream",
     "text": [
      "FID  : 100%|██████████| 3/3 [00:01<00:00,  2.67it/s]\n"
     ]
    },
    {
     "name": "stdout",
     "output_type": "stream",
     "text": [
      "Found 214 images in the folder test/testB/\n"
     ]
    },
    {
     "name": "stderr",
     "output_type": "stream",
     "text": [
      "FID  : 100%|██████████| 7/7 [00:01<00:00,  6.33it/s]\n"
     ]
    },
    {
     "name": "stdout",
     "output_type": "stream",
     "text": [
      "rrrrrrrrrr 88 214 (2048,) (2048,)\n",
      "compute FID between two folders\n",
      "Found 88 images in the folder results/grumpycat_CUT/test_60/images/fake_B/\n"
     ]
    },
    {
     "name": "stderr",
     "output_type": "stream",
     "text": [
      "FID  : 100%|██████████| 3/3 [00:01<00:00,  2.68it/s]\n"
     ]
    },
    {
     "name": "stdout",
     "output_type": "stream",
     "text": [
      "Found 214 images in the folder test/testB/\n"
     ]
    },
    {
     "name": "stderr",
     "output_type": "stream",
     "text": [
      "FID  : 100%|██████████| 7/7 [00:01<00:00,  6.38it/s]\n"
     ]
    },
    {
     "name": "stdout",
     "output_type": "stream",
     "text": [
      "rrrrrrrrrr 88 214 (2048,) (2048,)\n",
      "compute FID between two folders\n",
      "Found 88 images in the folder results/grumpycat_CUT/test_65/images/fake_B/\n"
     ]
    },
    {
     "name": "stderr",
     "output_type": "stream",
     "text": [
      "FID  : 100%|██████████| 3/3 [00:01<00:00,  2.67it/s]\n"
     ]
    },
    {
     "name": "stdout",
     "output_type": "stream",
     "text": [
      "Found 214 images in the folder test/testB/\n"
     ]
    },
    {
     "name": "stderr",
     "output_type": "stream",
     "text": [
      "FID  : 100%|██████████| 7/7 [00:01<00:00,  6.41it/s]\n"
     ]
    },
    {
     "name": "stdout",
     "output_type": "stream",
     "text": [
      "rrrrrrrrrr 88 214 (2048,) (2048,)\n",
      "compute FID between two folders\n",
      "Found 88 images in the folder results/grumpycat_CUT/test_70/images/fake_B/\n"
     ]
    },
    {
     "name": "stderr",
     "output_type": "stream",
     "text": [
      "FID  : 100%|██████████| 3/3 [00:01<00:00,  2.66it/s]\n"
     ]
    },
    {
     "name": "stdout",
     "output_type": "stream",
     "text": [
      "Found 214 images in the folder test/testB/\n"
     ]
    },
    {
     "name": "stderr",
     "output_type": "stream",
     "text": [
      "FID  : 100%|██████████| 7/7 [00:01<00:00,  6.30it/s]\n"
     ]
    },
    {
     "name": "stdout",
     "output_type": "stream",
     "text": [
      "rrrrrrrrrr 88 214 (2048,) (2048,)\n",
      "compute FID between two folders\n",
      "Found 88 images in the folder results/grumpycat_CUT/test_75/images/fake_B/\n"
     ]
    },
    {
     "name": "stderr",
     "output_type": "stream",
     "text": [
      "FID  : 100%|██████████| 3/3 [00:01<00:00,  2.66it/s]\n"
     ]
    },
    {
     "name": "stdout",
     "output_type": "stream",
     "text": [
      "Found 214 images in the folder test/testB/\n"
     ]
    },
    {
     "name": "stderr",
     "output_type": "stream",
     "text": [
      "FID  : 100%|██████████| 7/7 [00:01<00:00,  6.11it/s]\n"
     ]
    },
    {
     "name": "stdout",
     "output_type": "stream",
     "text": [
      "rrrrrrrrrr 88 214 (2048,) (2048,)\n",
      "compute FID between two folders\n",
      "Found 88 images in the folder results/grumpycat_CUT/test_80/images/fake_B/\n"
     ]
    },
    {
     "name": "stderr",
     "output_type": "stream",
     "text": [
      "FID  : 100%|██████████| 3/3 [00:01<00:00,  2.65it/s]\n"
     ]
    },
    {
     "name": "stdout",
     "output_type": "stream",
     "text": [
      "Found 214 images in the folder test/testB/\n"
     ]
    },
    {
     "name": "stderr",
     "output_type": "stream",
     "text": [
      "FID  : 100%|██████████| 7/7 [00:01<00:00,  6.34it/s]\n"
     ]
    },
    {
     "name": "stdout",
     "output_type": "stream",
     "text": [
      "rrrrrrrrrr 88 214 (2048,) (2048,)\n",
      "compute FID between two folders\n",
      "Found 88 images in the folder results/grumpycat_CUT/test_85/images/fake_B/\n"
     ]
    },
    {
     "name": "stderr",
     "output_type": "stream",
     "text": [
      "FID  : 100%|██████████| 3/3 [00:01<00:00,  2.63it/s]\n"
     ]
    },
    {
     "name": "stdout",
     "output_type": "stream",
     "text": [
      "Found 214 images in the folder test/testB/\n"
     ]
    },
    {
     "name": "stderr",
     "output_type": "stream",
     "text": [
      "FID  : 100%|██████████| 7/7 [00:01<00:00,  6.42it/s]\n"
     ]
    },
    {
     "name": "stdout",
     "output_type": "stream",
     "text": [
      "rrrrrrrrrr 88 214 (2048,) (2048,)\n",
      "compute FID between two folders\n",
      "Found 88 images in the folder results/grumpycat_CUT/test_90/images/fake_B/\n"
     ]
    },
    {
     "name": "stderr",
     "output_type": "stream",
     "text": [
      "FID  : 100%|██████████| 3/3 [00:01<00:00,  2.67it/s]\n"
     ]
    },
    {
     "name": "stdout",
     "output_type": "stream",
     "text": [
      "Found 214 images in the folder test/testB/\n"
     ]
    },
    {
     "name": "stderr",
     "output_type": "stream",
     "text": [
      "FID  : 100%|██████████| 7/7 [00:01<00:00,  6.41it/s]\n"
     ]
    },
    {
     "name": "stdout",
     "output_type": "stream",
     "text": [
      "rrrrrrrrrr 88 214 (2048,) (2048,)\n",
      "compute FID between two folders\n",
      "Found 88 images in the folder results/grumpycat_CUT/test_95/images/fake_B/\n"
     ]
    },
    {
     "name": "stderr",
     "output_type": "stream",
     "text": [
      "FID  : 100%|██████████| 3/3 [00:01<00:00,  2.61it/s]\n"
     ]
    },
    {
     "name": "stdout",
     "output_type": "stream",
     "text": [
      "Found 214 images in the folder test/testB/\n"
     ]
    },
    {
     "name": "stderr",
     "output_type": "stream",
     "text": [
      "FID  : 100%|██████████| 7/7 [00:01<00:00,  6.43it/s]\n"
     ]
    },
    {
     "name": "stdout",
     "output_type": "stream",
     "text": [
      "rrrrrrrrrr 88 214 (2048,) (2048,)\n",
      "compute FID between two folders\n",
      "Found 88 images in the folder results/grumpycat_CUT/test_100/images/fake_B/\n"
     ]
    },
    {
     "name": "stderr",
     "output_type": "stream",
     "text": [
      "FID  : 100%|██████████| 3/3 [00:01<00:00,  2.61it/s]\n"
     ]
    },
    {
     "name": "stdout",
     "output_type": "stream",
     "text": [
      "Found 214 images in the folder test/testB/\n"
     ]
    },
    {
     "name": "stderr",
     "output_type": "stream",
     "text": [
      "FID  : 100%|██████████| 7/7 [00:01<00:00,  6.32it/s]\n"
     ]
    },
    {
     "name": "stdout",
     "output_type": "stream",
     "text": [
      "rrrrrrrrrr 88 214 (2048,) (2048,)\n",
      "compute FID between two folders\n",
      "Found 88 images in the folder results/grumpycat_CUT/test_105/images/fake_B/\n"
     ]
    },
    {
     "name": "stderr",
     "output_type": "stream",
     "text": [
      "FID  : 100%|██████████| 3/3 [00:01<00:00,  2.63it/s]\n"
     ]
    },
    {
     "name": "stdout",
     "output_type": "stream",
     "text": [
      "Found 214 images in the folder test/testB/\n"
     ]
    },
    {
     "name": "stderr",
     "output_type": "stream",
     "text": [
      "FID  : 100%|██████████| 7/7 [00:01<00:00,  6.18it/s]\n"
     ]
    },
    {
     "name": "stdout",
     "output_type": "stream",
     "text": [
      "rrrrrrrrrr 88 214 (2048,) (2048,)\n",
      "compute FID between two folders\n",
      "Found 88 images in the folder results/grumpycat_CUT/test_110/images/fake_B/\n"
     ]
    },
    {
     "name": "stderr",
     "output_type": "stream",
     "text": [
      "FID  : 100%|██████████| 3/3 [00:01<00:00,  2.67it/s]\n"
     ]
    },
    {
     "name": "stdout",
     "output_type": "stream",
     "text": [
      "Found 214 images in the folder test/testB/\n"
     ]
    },
    {
     "name": "stderr",
     "output_type": "stream",
     "text": [
      "FID  : 100%|██████████| 7/7 [00:01<00:00,  6.19it/s]\n"
     ]
    },
    {
     "name": "stdout",
     "output_type": "stream",
     "text": [
      "rrrrrrrrrr 88 214 (2048,) (2048,)\n",
      "compute FID between two folders\n",
      "Found 88 images in the folder results/grumpycat_CUT/test_115/images/fake_B/\n"
     ]
    },
    {
     "name": "stderr",
     "output_type": "stream",
     "text": [
      "FID  : 100%|██████████| 3/3 [00:01<00:00,  2.67it/s]\n"
     ]
    },
    {
     "name": "stdout",
     "output_type": "stream",
     "text": [
      "Found 214 images in the folder test/testB/\n"
     ]
    },
    {
     "name": "stderr",
     "output_type": "stream",
     "text": [
      "FID  : 100%|██████████| 7/7 [00:01<00:00,  6.35it/s]\n"
     ]
    },
    {
     "name": "stdout",
     "output_type": "stream",
     "text": [
      "rrrrrrrrrr 88 214 (2048,) (2048,)\n",
      "compute FID between two folders\n",
      "Found 88 images in the folder results/grumpycat_CUT/test_120/images/fake_B/\n"
     ]
    },
    {
     "name": "stderr",
     "output_type": "stream",
     "text": [
      "FID  : 100%|██████████| 3/3 [00:01<00:00,  2.69it/s]\n"
     ]
    },
    {
     "name": "stdout",
     "output_type": "stream",
     "text": [
      "Found 214 images in the folder test/testB/\n"
     ]
    },
    {
     "name": "stderr",
     "output_type": "stream",
     "text": [
      "FID  : 100%|██████████| 7/7 [00:01<00:00,  6.29it/s]\n"
     ]
    },
    {
     "name": "stdout",
     "output_type": "stream",
     "text": [
      "rrrrrrrrrr 88 214 (2048,) (2048,)\n",
      "compute FID between two folders\n",
      "Found 88 images in the folder results/grumpycat_CUT/test_125/images/fake_B/\n"
     ]
    },
    {
     "name": "stderr",
     "output_type": "stream",
     "text": [
      "FID  : 100%|██████████| 3/3 [00:01<00:00,  2.65it/s]\n"
     ]
    },
    {
     "name": "stdout",
     "output_type": "stream",
     "text": [
      "Found 214 images in the folder test/testB/\n"
     ]
    },
    {
     "name": "stderr",
     "output_type": "stream",
     "text": [
      "FID  : 100%|██████████| 7/7 [00:01<00:00,  6.20it/s]\n"
     ]
    },
    {
     "name": "stdout",
     "output_type": "stream",
     "text": [
      "rrrrrrrrrr 88 214 (2048,) (2048,)\n",
      "compute FID between two folders\n",
      "Found 88 images in the folder results/grumpycat_CUT/test_130/images/fake_B/\n"
     ]
    },
    {
     "name": "stderr",
     "output_type": "stream",
     "text": [
      "FID  : 100%|██████████| 3/3 [00:01<00:00,  2.62it/s]\n"
     ]
    },
    {
     "name": "stdout",
     "output_type": "stream",
     "text": [
      "Found 214 images in the folder test/testB/\n"
     ]
    },
    {
     "name": "stderr",
     "output_type": "stream",
     "text": [
      "FID  : 100%|██████████| 7/7 [00:01<00:00,  6.29it/s]\n"
     ]
    },
    {
     "name": "stdout",
     "output_type": "stream",
     "text": [
      "rrrrrrrrrr 88 214 (2048,) (2048,)\n",
      "compute FID between two folders\n",
      "Found 88 images in the folder results/grumpycat_CUT/test_135/images/fake_B/\n"
     ]
    },
    {
     "name": "stderr",
     "output_type": "stream",
     "text": [
      "FID  : 100%|██████████| 3/3 [00:01<00:00,  2.67it/s]\n"
     ]
    },
    {
     "name": "stdout",
     "output_type": "stream",
     "text": [
      "Found 214 images in the folder test/testB/\n"
     ]
    },
    {
     "name": "stderr",
     "output_type": "stream",
     "text": [
      "FID  : 100%|██████████| 7/7 [00:01<00:00,  6.38it/s]\n"
     ]
    },
    {
     "name": "stdout",
     "output_type": "stream",
     "text": [
      "rrrrrrrrrr 88 214 (2048,) (2048,)\n",
      "compute FID between two folders\n",
      "Found 88 images in the folder results/grumpycat_CUT/test_140/images/fake_B/\n"
     ]
    },
    {
     "name": "stderr",
     "output_type": "stream",
     "text": [
      "FID  : 100%|██████████| 3/3 [00:01<00:00,  2.69it/s]\n"
     ]
    },
    {
     "name": "stdout",
     "output_type": "stream",
     "text": [
      "Found 214 images in the folder test/testB/\n"
     ]
    },
    {
     "name": "stderr",
     "output_type": "stream",
     "text": [
      "FID  : 100%|██████████| 7/7 [00:01<00:00,  6.20it/s]\n"
     ]
    },
    {
     "name": "stdout",
     "output_type": "stream",
     "text": [
      "rrrrrrrrrr 88 214 (2048,) (2048,)\n",
      "compute FID between two folders\n",
      "Found 88 images in the folder results/grumpycat_CUT/test_145/images/fake_B/\n"
     ]
    },
    {
     "name": "stderr",
     "output_type": "stream",
     "text": [
      "FID  : 100%|██████████| 3/3 [00:01<00:00,  2.69it/s]\n"
     ]
    },
    {
     "name": "stdout",
     "output_type": "stream",
     "text": [
      "Found 214 images in the folder test/testB/\n"
     ]
    },
    {
     "name": "stderr",
     "output_type": "stream",
     "text": [
      "FID  : 100%|██████████| 7/7 [00:01<00:00,  6.27it/s]\n"
     ]
    },
    {
     "name": "stdout",
     "output_type": "stream",
     "text": [
      "rrrrrrrrrr 88 214 (2048,) (2048,)\n",
      "compute FID between two folders\n",
      "Found 88 images in the folder results/grumpycat_CUT/test_150/images/fake_B/\n"
     ]
    },
    {
     "name": "stderr",
     "output_type": "stream",
     "text": [
      "FID  : 100%|██████████| 3/3 [00:01<00:00,  2.66it/s]\n"
     ]
    },
    {
     "name": "stdout",
     "output_type": "stream",
     "text": [
      "Found 214 images in the folder test/testB/\n"
     ]
    },
    {
     "name": "stderr",
     "output_type": "stream",
     "text": [
      "FID  : 100%|██████████| 7/7 [00:01<00:00,  6.19it/s]\n"
     ]
    },
    {
     "name": "stdout",
     "output_type": "stream",
     "text": [
      "rrrrrrrrrr 88 214 (2048,) (2048,)\n",
      "compute FID between two folders\n",
      "Found 88 images in the folder results/grumpycat_CUT/test_155/images/fake_B/\n"
     ]
    },
    {
     "name": "stderr",
     "output_type": "stream",
     "text": [
      "FID  : 100%|██████████| 3/3 [00:01<00:00,  2.67it/s]\n"
     ]
    },
    {
     "name": "stdout",
     "output_type": "stream",
     "text": [
      "Found 214 images in the folder test/testB/\n"
     ]
    },
    {
     "name": "stderr",
     "output_type": "stream",
     "text": [
      "FID  : 100%|██████████| 7/7 [00:01<00:00,  6.27it/s]\n"
     ]
    },
    {
     "name": "stdout",
     "output_type": "stream",
     "text": [
      "rrrrrrrrrr 88 214 (2048,) (2048,)\n",
      "compute FID between two folders\n",
      "Found 88 images in the folder results/grumpycat_CUT/test_160/images/fake_B/\n"
     ]
    },
    {
     "name": "stderr",
     "output_type": "stream",
     "text": [
      "FID  : 100%|██████████| 3/3 [00:01<00:00,  2.62it/s]\n"
     ]
    },
    {
     "name": "stdout",
     "output_type": "stream",
     "text": [
      "Found 214 images in the folder test/testB/\n"
     ]
    },
    {
     "name": "stderr",
     "output_type": "stream",
     "text": [
      "FID  : 100%|██████████| 7/7 [00:01<00:00,  6.31it/s]\n"
     ]
    },
    {
     "name": "stdout",
     "output_type": "stream",
     "text": [
      "rrrrrrrrrr 88 214 (2048,) (2048,)\n",
      "compute FID between two folders\n",
      "Found 88 images in the folder results/grumpycat_CUT/test_165/images/fake_B/\n"
     ]
    },
    {
     "name": "stderr",
     "output_type": "stream",
     "text": [
      "FID  : 100%|██████████| 3/3 [00:01<00:00,  2.70it/s]\n"
     ]
    },
    {
     "name": "stdout",
     "output_type": "stream",
     "text": [
      "Found 214 images in the folder test/testB/\n"
     ]
    },
    {
     "name": "stderr",
     "output_type": "stream",
     "text": [
      "FID  : 100%|██████████| 7/7 [00:01<00:00,  6.36it/s]\n"
     ]
    },
    {
     "name": "stdout",
     "output_type": "stream",
     "text": [
      "rrrrrrrrrr 88 214 (2048,) (2048,)\n",
      "compute FID between two folders\n",
      "Found 88 images in the folder results/grumpycat_CUT/test_170/images/fake_B/\n"
     ]
    },
    {
     "name": "stderr",
     "output_type": "stream",
     "text": [
      "FID  : 100%|██████████| 3/3 [00:01<00:00,  2.65it/s]\n"
     ]
    },
    {
     "name": "stdout",
     "output_type": "stream",
     "text": [
      "Found 214 images in the folder test/testB/\n"
     ]
    },
    {
     "name": "stderr",
     "output_type": "stream",
     "text": [
      "FID  : 100%|██████████| 7/7 [00:01<00:00,  6.19it/s]\n"
     ]
    },
    {
     "name": "stdout",
     "output_type": "stream",
     "text": [
      "rrrrrrrrrr 88 214 (2048,) (2048,)\n",
      "compute FID between two folders\n",
      "Found 88 images in the folder results/grumpycat_CUT/test_175/images/fake_B/\n"
     ]
    },
    {
     "name": "stderr",
     "output_type": "stream",
     "text": [
      "FID  : 100%|██████████| 3/3 [00:01<00:00,  2.68it/s]\n"
     ]
    },
    {
     "name": "stdout",
     "output_type": "stream",
     "text": [
      "Found 214 images in the folder test/testB/\n"
     ]
    },
    {
     "name": "stderr",
     "output_type": "stream",
     "text": [
      "FID  : 100%|██████████| 7/7 [00:01<00:00,  6.27it/s]\n"
     ]
    },
    {
     "name": "stdout",
     "output_type": "stream",
     "text": [
      "rrrrrrrrrr 88 214 (2048,) (2048,)\n",
      "compute FID between two folders\n",
      "Found 88 images in the folder results/grumpycat_CUT/test_180/images/fake_B/\n"
     ]
    },
    {
     "name": "stderr",
     "output_type": "stream",
     "text": [
      "FID  : 100%|██████████| 3/3 [00:01<00:00,  2.68it/s]\n"
     ]
    },
    {
     "name": "stdout",
     "output_type": "stream",
     "text": [
      "Found 214 images in the folder test/testB/\n"
     ]
    },
    {
     "name": "stderr",
     "output_type": "stream",
     "text": [
      "FID  : 100%|██████████| 7/7 [00:01<00:00,  6.29it/s]\n"
     ]
    },
    {
     "name": "stdout",
     "output_type": "stream",
     "text": [
      "rrrrrrrrrr 88 214 (2048,) (2048,)\n",
      "compute FID between two folders\n",
      "Found 88 images in the folder results/grumpycat_CUT/test_185/images/fake_B/\n"
     ]
    },
    {
     "name": "stderr",
     "output_type": "stream",
     "text": [
      "FID  : 100%|██████████| 3/3 [00:01<00:00,  2.68it/s]\n"
     ]
    },
    {
     "name": "stdout",
     "output_type": "stream",
     "text": [
      "Found 214 images in the folder test/testB/\n"
     ]
    },
    {
     "name": "stderr",
     "output_type": "stream",
     "text": [
      "FID  : 100%|██████████| 7/7 [00:01<00:00,  6.41it/s]\n"
     ]
    },
    {
     "name": "stdout",
     "output_type": "stream",
     "text": [
      "rrrrrrrrrr 88 214 (2048,) (2048,)\n",
      "compute FID between two folders\n",
      "Found 88 images in the folder results/grumpycat_CUT/test_190/images/fake_B/\n"
     ]
    },
    {
     "name": "stderr",
     "output_type": "stream",
     "text": [
      "FID  : 100%|██████████| 3/3 [00:01<00:00,  2.43it/s]\n"
     ]
    },
    {
     "name": "stdout",
     "output_type": "stream",
     "text": [
      "Found 214 images in the folder test/testB/\n"
     ]
    },
    {
     "name": "stderr",
     "output_type": "stream",
     "text": [
      "FID  : 100%|██████████| 7/7 [00:01<00:00,  6.04it/s]\n"
     ]
    },
    {
     "name": "stdout",
     "output_type": "stream",
     "text": [
      "rrrrrrrrrr 88 214 (2048,) (2048,)\n",
      "compute FID between two folders\n",
      "Found 88 images in the folder results/grumpycat_CUT/test_195/images/fake_B/\n"
     ]
    },
    {
     "name": "stderr",
     "output_type": "stream",
     "text": [
      "FID  : 100%|██████████| 3/3 [00:01<00:00,  2.63it/s]\n"
     ]
    },
    {
     "name": "stdout",
     "output_type": "stream",
     "text": [
      "Found 214 images in the folder test/testB/\n"
     ]
    },
    {
     "name": "stderr",
     "output_type": "stream",
     "text": [
      "FID  : 100%|██████████| 7/7 [00:01<00:00,  6.20it/s]\n"
     ]
    },
    {
     "name": "stdout",
     "output_type": "stream",
     "text": [
      "rrrrrrrrrr 88 214 (2048,) (2048,)\n",
      "compute FID between two folders\n",
      "Found 88 images in the folder results/grumpycat_CUT/test_200/images/fake_B/\n"
     ]
    },
    {
     "name": "stderr",
     "output_type": "stream",
     "text": [
      "FID  : 100%|██████████| 3/3 [00:01<00:00,  2.60it/s]\n"
     ]
    },
    {
     "name": "stdout",
     "output_type": "stream",
     "text": [
      "Found 214 images in the folder test/testB/\n"
     ]
    },
    {
     "name": "stderr",
     "output_type": "stream",
     "text": [
      "FID  : 100%|██████████| 7/7 [00:01<00:00,  6.23it/s]\n"
     ]
    },
    {
     "name": "stdout",
     "output_type": "stream",
     "text": [
      "rrrrrrrrrr 88 214 (2048,) (2048,)\n",
      "compute FID between two folders\n",
      "Found 88 images in the folder results/grumpycat_CUT/test_205/images/fake_B/\n"
     ]
    },
    {
     "name": "stderr",
     "output_type": "stream",
     "text": [
      "FID  : 100%|██████████| 3/3 [00:01<00:00,  2.66it/s]\n"
     ]
    },
    {
     "name": "stdout",
     "output_type": "stream",
     "text": [
      "Found 214 images in the folder test/testB/\n"
     ]
    },
    {
     "name": "stderr",
     "output_type": "stream",
     "text": [
      "FID  : 100%|██████████| 7/7 [00:01<00:00,  6.28it/s]\n"
     ]
    },
    {
     "name": "stdout",
     "output_type": "stream",
     "text": [
      "rrrrrrrrrr 88 214 (2048,) (2048,)\n",
      "compute FID between two folders\n",
      "Found 88 images in the folder results/grumpycat_CUT/test_210/images/fake_B/\n"
     ]
    },
    {
     "name": "stderr",
     "output_type": "stream",
     "text": [
      "FID  : 100%|██████████| 3/3 [00:01<00:00,  2.67it/s]\n"
     ]
    },
    {
     "name": "stdout",
     "output_type": "stream",
     "text": [
      "Found 214 images in the folder test/testB/\n"
     ]
    },
    {
     "name": "stderr",
     "output_type": "stream",
     "text": [
      "FID  : 100%|██████████| 7/7 [00:01<00:00,  6.38it/s]\n"
     ]
    },
    {
     "name": "stdout",
     "output_type": "stream",
     "text": [
      "rrrrrrrrrr 88 214 (2048,) (2048,)\n",
      "compute FID between two folders\n",
      "Found 88 images in the folder results/grumpycat_CUT/test_215/images/fake_B/\n"
     ]
    },
    {
     "name": "stderr",
     "output_type": "stream",
     "text": [
      "FID  : 100%|██████████| 3/3 [00:01<00:00,  2.64it/s]\n"
     ]
    },
    {
     "name": "stdout",
     "output_type": "stream",
     "text": [
      "Found 214 images in the folder test/testB/\n"
     ]
    },
    {
     "name": "stderr",
     "output_type": "stream",
     "text": [
      "FID  : 100%|██████████| 7/7 [00:01<00:00,  6.21it/s]\n"
     ]
    },
    {
     "name": "stdout",
     "output_type": "stream",
     "text": [
      "rrrrrrrrrr 88 214 (2048,) (2048,)\n",
      "compute FID between two folders\n",
      "Found 88 images in the folder results/grumpycat_CUT/test_220/images/fake_B/\n"
     ]
    },
    {
     "name": "stderr",
     "output_type": "stream",
     "text": [
      "FID  : 100%|██████████| 3/3 [00:01<00:00,  2.62it/s]\n"
     ]
    },
    {
     "name": "stdout",
     "output_type": "stream",
     "text": [
      "Found 214 images in the folder test/testB/\n"
     ]
    },
    {
     "name": "stderr",
     "output_type": "stream",
     "text": [
      "FID  : 100%|██████████| 7/7 [00:01<00:00,  6.13it/s]\n"
     ]
    },
    {
     "name": "stdout",
     "output_type": "stream",
     "text": [
      "rrrrrrrrrr 88 214 (2048,) (2048,)\n",
      "compute FID between two folders\n",
      "Found 88 images in the folder results/grumpycat_CUT/test_225/images/fake_B/\n"
     ]
    },
    {
     "name": "stderr",
     "output_type": "stream",
     "text": [
      "FID  : 100%|██████████| 3/3 [00:01<00:00,  2.64it/s]\n"
     ]
    },
    {
     "name": "stdout",
     "output_type": "stream",
     "text": [
      "Found 214 images in the folder test/testB/\n"
     ]
    },
    {
     "name": "stderr",
     "output_type": "stream",
     "text": [
      "FID  : 100%|██████████| 7/7 [00:01<00:00,  6.23it/s]\n"
     ]
    },
    {
     "name": "stdout",
     "output_type": "stream",
     "text": [
      "rrrrrrrrrr 88 214 (2048,) (2048,)\n",
      "compute FID between two folders\n",
      "Found 88 images in the folder results/grumpycat_CUT/test_230/images/fake_B/\n"
     ]
    },
    {
     "name": "stderr",
     "output_type": "stream",
     "text": [
      "FID  : 100%|██████████| 3/3 [00:01<00:00,  2.66it/s]\n"
     ]
    },
    {
     "name": "stdout",
     "output_type": "stream",
     "text": [
      "Found 214 images in the folder test/testB/\n"
     ]
    },
    {
     "name": "stderr",
     "output_type": "stream",
     "text": [
      "FID  : 100%|██████████| 7/7 [00:01<00:00,  6.05it/s]\n"
     ]
    },
    {
     "name": "stdout",
     "output_type": "stream",
     "text": [
      "rrrrrrrrrr 88 214 (2048,) (2048,)\n",
      "compute FID between two folders\n",
      "Found 88 images in the folder results/grumpycat_CUT/test_235/images/fake_B/\n"
     ]
    },
    {
     "name": "stderr",
     "output_type": "stream",
     "text": [
      "FID  : 100%|██████████| 3/3 [00:01<00:00,  2.65it/s]\n"
     ]
    },
    {
     "name": "stdout",
     "output_type": "stream",
     "text": [
      "Found 214 images in the folder test/testB/\n"
     ]
    },
    {
     "name": "stderr",
     "output_type": "stream",
     "text": [
      "FID  : 100%|██████████| 7/7 [00:01<00:00,  6.36it/s]\n"
     ]
    },
    {
     "name": "stdout",
     "output_type": "stream",
     "text": [
      "rrrrrrrrrr 88 214 (2048,) (2048,)\n",
      "compute FID between two folders\n",
      "Found 88 images in the folder results/grumpycat_CUT/test_240/images/fake_B/\n"
     ]
    },
    {
     "name": "stderr",
     "output_type": "stream",
     "text": [
      "FID  : 100%|██████████| 3/3 [00:01<00:00,  2.65it/s]\n"
     ]
    },
    {
     "name": "stdout",
     "output_type": "stream",
     "text": [
      "Found 214 images in the folder test/testB/\n"
     ]
    },
    {
     "name": "stderr",
     "output_type": "stream",
     "text": [
      "FID  : 100%|██████████| 7/7 [00:01<00:00,  6.17it/s]\n"
     ]
    },
    {
     "name": "stdout",
     "output_type": "stream",
     "text": [
      "rrrrrrrrrr 88 214 (2048,) (2048,)\n",
      "compute FID between two folders\n",
      "Found 88 images in the folder results/grumpycat_CUT/test_245/images/fake_B/\n"
     ]
    },
    {
     "name": "stderr",
     "output_type": "stream",
     "text": [
      "FID  : 100%|██████████| 3/3 [00:01<00:00,  2.68it/s]\n"
     ]
    },
    {
     "name": "stdout",
     "output_type": "stream",
     "text": [
      "Found 214 images in the folder test/testB/\n"
     ]
    },
    {
     "name": "stderr",
     "output_type": "stream",
     "text": [
      "FID  : 100%|██████████| 7/7 [00:01<00:00,  6.31it/s]\n"
     ]
    },
    {
     "name": "stdout",
     "output_type": "stream",
     "text": [
      "rrrrrrrrrr 88 214 (2048,) (2048,)\n",
      "compute FID between two folders\n",
      "Found 88 images in the folder results/grumpycat_CUT/test_250/images/fake_B/\n"
     ]
    },
    {
     "name": "stderr",
     "output_type": "stream",
     "text": [
      "FID  : 100%|██████████| 3/3 [00:01<00:00,  2.62it/s]\n"
     ]
    },
    {
     "name": "stdout",
     "output_type": "stream",
     "text": [
      "Found 214 images in the folder test/testB/\n"
     ]
    },
    {
     "name": "stderr",
     "output_type": "stream",
     "text": [
      "FID  : 100%|██████████| 7/7 [00:01<00:00,  5.83it/s]\n"
     ]
    },
    {
     "name": "stdout",
     "output_type": "stream",
     "text": [
      "rrrrrrrrrr 88 214 (2048,) (2048,)\n",
      "compute FID between two folders\n",
      "Found 88 images in the folder results/grumpycat_CUT/test_255/images/fake_B/\n"
     ]
    },
    {
     "name": "stderr",
     "output_type": "stream",
     "text": [
      "FID  : 100%|██████████| 3/3 [00:01<00:00,  2.63it/s]\n"
     ]
    },
    {
     "name": "stdout",
     "output_type": "stream",
     "text": [
      "Found 214 images in the folder test/testB/\n"
     ]
    },
    {
     "name": "stderr",
     "output_type": "stream",
     "text": [
      "FID  : 100%|██████████| 7/7 [00:01<00:00,  6.04it/s]\n"
     ]
    },
    {
     "name": "stdout",
     "output_type": "stream",
     "text": [
      "rrrrrrrrrr 88 214 (2048,) (2048,)\n",
      "compute FID between two folders\n",
      "Found 88 images in the folder results/grumpycat_CUT/test_260/images/fake_B/\n"
     ]
    },
    {
     "name": "stderr",
     "output_type": "stream",
     "text": [
      "FID  : 100%|██████████| 3/3 [00:01<00:00,  2.67it/s]\n"
     ]
    },
    {
     "name": "stdout",
     "output_type": "stream",
     "text": [
      "Found 214 images in the folder test/testB/\n"
     ]
    },
    {
     "name": "stderr",
     "output_type": "stream",
     "text": [
      "FID  : 100%|██████████| 7/7 [00:01<00:00,  6.27it/s]\n"
     ]
    },
    {
     "name": "stdout",
     "output_type": "stream",
     "text": [
      "rrrrrrrrrr 88 214 (2048,) (2048,)\n",
      "compute FID between two folders\n",
      "Found 88 images in the folder results/grumpycat_CUT/test_265/images/fake_B/\n"
     ]
    },
    {
     "name": "stderr",
     "output_type": "stream",
     "text": [
      "FID  : 100%|██████████| 3/3 [00:01<00:00,  2.69it/s]\n"
     ]
    },
    {
     "name": "stdout",
     "output_type": "stream",
     "text": [
      "Found 214 images in the folder test/testB/\n"
     ]
    },
    {
     "name": "stderr",
     "output_type": "stream",
     "text": [
      "FID  : 100%|██████████| 7/7 [00:01<00:00,  6.19it/s]\n"
     ]
    },
    {
     "name": "stdout",
     "output_type": "stream",
     "text": [
      "rrrrrrrrrr 88 214 (2048,) (2048,)\n",
      "compute FID between two folders\n",
      "Found 88 images in the folder results/grumpycat_CUT/test_270/images/fake_B/\n"
     ]
    },
    {
     "name": "stderr",
     "output_type": "stream",
     "text": [
      "FID  : 100%|██████████| 3/3 [00:01<00:00,  2.66it/s]\n"
     ]
    },
    {
     "name": "stdout",
     "output_type": "stream",
     "text": [
      "Found 214 images in the folder test/testB/\n"
     ]
    },
    {
     "name": "stderr",
     "output_type": "stream",
     "text": [
      "FID  : 100%|██████████| 7/7 [00:01<00:00,  6.32it/s]\n"
     ]
    },
    {
     "name": "stdout",
     "output_type": "stream",
     "text": [
      "rrrrrrrrrr 88 214 (2048,) (2048,)\n",
      "compute FID between two folders\n",
      "Found 88 images in the folder results/grumpycat_CUT/test_275/images/fake_B/\n"
     ]
    },
    {
     "name": "stderr",
     "output_type": "stream",
     "text": [
      "FID  : 100%|██████████| 3/3 [00:01<00:00,  2.54it/s]\n"
     ]
    },
    {
     "name": "stdout",
     "output_type": "stream",
     "text": [
      "Found 214 images in the folder test/testB/\n"
     ]
    },
    {
     "name": "stderr",
     "output_type": "stream",
     "text": [
      "FID  : 100%|██████████| 7/7 [00:01<00:00,  6.12it/s]\n"
     ]
    },
    {
     "name": "stdout",
     "output_type": "stream",
     "text": [
      "rrrrrrrrrr 88 214 (2048,) (2048,)\n",
      "compute FID between two folders\n",
      "Found 88 images in the folder results/grumpycat_CUT/test_280/images/fake_B/\n"
     ]
    },
    {
     "name": "stderr",
     "output_type": "stream",
     "text": [
      "FID  : 100%|██████████| 3/3 [00:01<00:00,  2.61it/s]\n"
     ]
    },
    {
     "name": "stdout",
     "output_type": "stream",
     "text": [
      "Found 214 images in the folder test/testB/\n"
     ]
    },
    {
     "name": "stderr",
     "output_type": "stream",
     "text": [
      "FID  : 100%|██████████| 7/7 [00:01<00:00,  6.19it/s]\n"
     ]
    },
    {
     "name": "stdout",
     "output_type": "stream",
     "text": [
      "rrrrrrrrrr 88 214 (2048,) (2048,)\n",
      "compute FID between two folders\n",
      "Found 88 images in the folder results/grumpycat_CUT/test_285/images/fake_B/\n"
     ]
    },
    {
     "name": "stderr",
     "output_type": "stream",
     "text": [
      "FID  : 100%|██████████| 3/3 [00:01<00:00,  2.68it/s]\n"
     ]
    },
    {
     "name": "stdout",
     "output_type": "stream",
     "text": [
      "Found 214 images in the folder test/testB/\n"
     ]
    },
    {
     "name": "stderr",
     "output_type": "stream",
     "text": [
      "FID  : 100%|██████████| 7/7 [00:01<00:00,  6.17it/s]\n"
     ]
    },
    {
     "name": "stdout",
     "output_type": "stream",
     "text": [
      "rrrrrrrrrr 88 214 (2048,) (2048,)\n",
      "compute FID between two folders\n",
      "Found 88 images in the folder results/grumpycat_CUT/test_290/images/fake_B/\n"
     ]
    },
    {
     "name": "stderr",
     "output_type": "stream",
     "text": [
      "FID  : 100%|██████████| 3/3 [00:01<00:00,  2.64it/s]\n"
     ]
    },
    {
     "name": "stdout",
     "output_type": "stream",
     "text": [
      "Found 214 images in the folder test/testB/\n"
     ]
    },
    {
     "name": "stderr",
     "output_type": "stream",
     "text": [
      "FID  : 100%|██████████| 7/7 [00:01<00:00,  6.24it/s]\n"
     ]
    },
    {
     "name": "stdout",
     "output_type": "stream",
     "text": [
      "rrrrrrrrrr 88 214 (2048,) (2048,)\n",
      "compute FID between two folders\n",
      "Found 88 images in the folder results/grumpycat_CUT/test_295/images/fake_B/\n"
     ]
    },
    {
     "name": "stderr",
     "output_type": "stream",
     "text": [
      "FID  : 100%|██████████| 3/3 [00:01<00:00,  2.64it/s]\n"
     ]
    },
    {
     "name": "stdout",
     "output_type": "stream",
     "text": [
      "Found 214 images in the folder test/testB/\n"
     ]
    },
    {
     "name": "stderr",
     "output_type": "stream",
     "text": [
      "FID  : 100%|██████████| 7/7 [00:01<00:00,  6.14it/s]\n"
     ]
    },
    {
     "name": "stdout",
     "output_type": "stream",
     "text": [
      "rrrrrrrrrr 88 214 (2048,) (2048,)\n",
      "compute FID between two folders\n",
      "Found 88 images in the folder results/grumpycat_CUT/test_300/images/fake_B/\n"
     ]
    },
    {
     "name": "stderr",
     "output_type": "stream",
     "text": [
      "FID  : 100%|██████████| 3/3 [00:01<00:00,  2.64it/s]\n"
     ]
    },
    {
     "name": "stdout",
     "output_type": "stream",
     "text": [
      "Found 214 images in the folder test/testB/\n"
     ]
    },
    {
     "name": "stderr",
     "output_type": "stream",
     "text": [
      "FID  : 100%|██████████| 7/7 [00:01<00:00,  6.26it/s]\n"
     ]
    },
    {
     "name": "stdout",
     "output_type": "stream",
     "text": [
      "rrrrrrrrrr 88 214 (2048,) (2048,)\n",
      "compute FID between two folders\n",
      "Found 88 images in the folder results/grumpycat_CUT/test_305/images/fake_B/\n"
     ]
    },
    {
     "name": "stderr",
     "output_type": "stream",
     "text": [
      "FID  : 100%|██████████| 3/3 [00:01<00:00,  2.68it/s]\n"
     ]
    },
    {
     "name": "stdout",
     "output_type": "stream",
     "text": [
      "Found 214 images in the folder test/testB/\n"
     ]
    },
    {
     "name": "stderr",
     "output_type": "stream",
     "text": [
      "FID  : 100%|██████████| 7/7 [00:01<00:00,  6.28it/s]\n"
     ]
    },
    {
     "name": "stdout",
     "output_type": "stream",
     "text": [
      "rrrrrrrrrr 88 214 (2048,) (2048,)\n",
      "compute FID between two folders\n",
      "Found 88 images in the folder results/grumpycat_CUT/test_310/images/fake_B/\n"
     ]
    },
    {
     "name": "stderr",
     "output_type": "stream",
     "text": [
      "FID  : 100%|██████████| 3/3 [00:01<00:00,  2.66it/s]\n"
     ]
    },
    {
     "name": "stdout",
     "output_type": "stream",
     "text": [
      "Found 214 images in the folder test/testB/\n"
     ]
    },
    {
     "name": "stderr",
     "output_type": "stream",
     "text": [
      "FID  : 100%|██████████| 7/7 [00:01<00:00,  6.28it/s]\n"
     ]
    },
    {
     "name": "stdout",
     "output_type": "stream",
     "text": [
      "rrrrrrrrrr 88 214 (2048,) (2048,)\n",
      "compute FID between two folders\n",
      "Found 88 images in the folder results/grumpycat_CUT/test_315/images/fake_B/\n"
     ]
    },
    {
     "name": "stderr",
     "output_type": "stream",
     "text": [
      "FID  : 100%|██████████| 3/3 [00:01<00:00,  2.66it/s]\n"
     ]
    },
    {
     "name": "stdout",
     "output_type": "stream",
     "text": [
      "Found 214 images in the folder test/testB/\n"
     ]
    },
    {
     "name": "stderr",
     "output_type": "stream",
     "text": [
      "FID  : 100%|██████████| 7/7 [00:01<00:00,  6.32it/s]\n"
     ]
    },
    {
     "name": "stdout",
     "output_type": "stream",
     "text": [
      "rrrrrrrrrr 88 214 (2048,) (2048,)\n",
      "compute FID between two folders\n",
      "Found 88 images in the folder results/grumpycat_CUT/test_320/images/fake_B/\n"
     ]
    },
    {
     "name": "stderr",
     "output_type": "stream",
     "text": [
      "FID  : 100%|██████████| 3/3 [00:01<00:00,  2.65it/s]\n"
     ]
    },
    {
     "name": "stdout",
     "output_type": "stream",
     "text": [
      "Found 214 images in the folder test/testB/\n"
     ]
    },
    {
     "name": "stderr",
     "output_type": "stream",
     "text": [
      "FID  : 100%|██████████| 7/7 [00:01<00:00,  6.24it/s]\n"
     ]
    },
    {
     "name": "stdout",
     "output_type": "stream",
     "text": [
      "rrrrrrrrrr 88 214 (2048,) (2048,)\n",
      "compute FID between two folders\n",
      "Found 88 images in the folder results/grumpycat_CUT/test_325/images/fake_B/\n"
     ]
    },
    {
     "name": "stderr",
     "output_type": "stream",
     "text": [
      "FID  : 100%|██████████| 3/3 [00:01<00:00,  2.65it/s]\n"
     ]
    },
    {
     "name": "stdout",
     "output_type": "stream",
     "text": [
      "Found 214 images in the folder test/testB/\n"
     ]
    },
    {
     "name": "stderr",
     "output_type": "stream",
     "text": [
      "FID  : 100%|██████████| 7/7 [00:01<00:00,  6.31it/s]\n"
     ]
    },
    {
     "name": "stdout",
     "output_type": "stream",
     "text": [
      "rrrrrrrrrr 88 214 (2048,) (2048,)\n",
      "compute FID between two folders\n",
      "Found 88 images in the folder results/grumpycat_CUT/test_330/images/fake_B/\n"
     ]
    },
    {
     "name": "stderr",
     "output_type": "stream",
     "text": [
      "FID  : 100%|██████████| 3/3 [00:01<00:00,  2.65it/s]\n"
     ]
    },
    {
     "name": "stdout",
     "output_type": "stream",
     "text": [
      "Found 214 images in the folder test/testB/\n"
     ]
    },
    {
     "name": "stderr",
     "output_type": "stream",
     "text": [
      "FID  : 100%|██████████| 7/7 [00:01<00:00,  6.18it/s]\n"
     ]
    },
    {
     "name": "stdout",
     "output_type": "stream",
     "text": [
      "rrrrrrrrrr 88 214 (2048,) (2048,)\n",
      "compute FID between two folders\n",
      "Found 88 images in the folder results/grumpycat_CUT/test_335/images/fake_B/\n"
     ]
    },
    {
     "name": "stderr",
     "output_type": "stream",
     "text": [
      "FID  : 100%|██████████| 3/3 [00:01<00:00,  2.64it/s]\n"
     ]
    },
    {
     "name": "stdout",
     "output_type": "stream",
     "text": [
      "Found 214 images in the folder test/testB/\n"
     ]
    },
    {
     "name": "stderr",
     "output_type": "stream",
     "text": [
      "FID  : 100%|██████████| 7/7 [00:01<00:00,  6.30it/s]\n"
     ]
    },
    {
     "name": "stdout",
     "output_type": "stream",
     "text": [
      "rrrrrrrrrr 88 214 (2048,) (2048,)\n",
      "compute FID between two folders\n",
      "Found 88 images in the folder results/grumpycat_CUT/test_340/images/fake_B/\n"
     ]
    },
    {
     "name": "stderr",
     "output_type": "stream",
     "text": [
      "FID  : 100%|██████████| 3/3 [00:01<00:00,  2.65it/s]\n"
     ]
    },
    {
     "name": "stdout",
     "output_type": "stream",
     "text": [
      "Found 214 images in the folder test/testB/\n"
     ]
    },
    {
     "name": "stderr",
     "output_type": "stream",
     "text": [
      "FID  : 100%|██████████| 7/7 [00:01<00:00,  6.22it/s]\n"
     ]
    },
    {
     "name": "stdout",
     "output_type": "stream",
     "text": [
      "rrrrrrrrrr 88 214 (2048,) (2048,)\n",
      "compute FID between two folders\n",
      "Found 88 images in the folder results/grumpycat_CUT/test_345/images/fake_B/\n"
     ]
    },
    {
     "name": "stderr",
     "output_type": "stream",
     "text": [
      "FID  : 100%|██████████| 3/3 [00:01<00:00,  2.69it/s]\n"
     ]
    },
    {
     "name": "stdout",
     "output_type": "stream",
     "text": [
      "Found 214 images in the folder test/testB/\n"
     ]
    },
    {
     "name": "stderr",
     "output_type": "stream",
     "text": [
      "FID  : 100%|██████████| 7/7 [00:01<00:00,  6.23it/s]\n"
     ]
    },
    {
     "name": "stdout",
     "output_type": "stream",
     "text": [
      "rrrrrrrrrr 88 214 (2048,) (2048,)\n",
      "compute FID between two folders\n",
      "Found 88 images in the folder results/grumpycat_CUT/test_350/images/fake_B/\n"
     ]
    },
    {
     "name": "stderr",
     "output_type": "stream",
     "text": [
      "FID  : 100%|██████████| 3/3 [00:01<00:00,  2.45it/s]\n"
     ]
    },
    {
     "name": "stdout",
     "output_type": "stream",
     "text": [
      "Found 214 images in the folder test/testB/\n"
     ]
    },
    {
     "name": "stderr",
     "output_type": "stream",
     "text": [
      "FID  : 100%|██████████| 7/7 [00:01<00:00,  6.11it/s]\n"
     ]
    },
    {
     "name": "stdout",
     "output_type": "stream",
     "text": [
      "rrrrrrrrrr 88 214 (2048,) (2048,)\n",
      "compute FID between two folders\n",
      "Found 88 images in the folder results/grumpycat_CUT/test_355/images/fake_B/\n"
     ]
    },
    {
     "name": "stderr",
     "output_type": "stream",
     "text": [
      "FID  : 100%|██████████| 3/3 [00:01<00:00,  2.67it/s]\n"
     ]
    },
    {
     "name": "stdout",
     "output_type": "stream",
     "text": [
      "Found 214 images in the folder test/testB/\n"
     ]
    },
    {
     "name": "stderr",
     "output_type": "stream",
     "text": [
      "FID  : 100%|██████████| 7/7 [00:01<00:00,  6.21it/s]\n"
     ]
    },
    {
     "name": "stdout",
     "output_type": "stream",
     "text": [
      "rrrrrrrrrr 88 214 (2048,) (2048,)\n",
      "compute FID between two folders\n",
      "Found 88 images in the folder results/grumpycat_CUT/test_360/images/fake_B/\n"
     ]
    },
    {
     "name": "stderr",
     "output_type": "stream",
     "text": [
      "FID  : 100%|██████████| 3/3 [00:01<00:00,  2.63it/s]\n"
     ]
    },
    {
     "name": "stdout",
     "output_type": "stream",
     "text": [
      "Found 214 images in the folder test/testB/\n"
     ]
    },
    {
     "name": "stderr",
     "output_type": "stream",
     "text": [
      "FID  : 100%|██████████| 7/7 [00:01<00:00,  6.23it/s]\n"
     ]
    },
    {
     "name": "stdout",
     "output_type": "stream",
     "text": [
      "rrrrrrrrrr 88 214 (2048,) (2048,)\n",
      "compute FID between two folders\n",
      "Found 88 images in the folder results/grumpycat_CUT/test_365/images/fake_B/\n"
     ]
    },
    {
     "name": "stderr",
     "output_type": "stream",
     "text": [
      "FID  : 100%|██████████| 3/3 [00:01<00:00,  2.64it/s]\n"
     ]
    },
    {
     "name": "stdout",
     "output_type": "stream",
     "text": [
      "Found 214 images in the folder test/testB/\n"
     ]
    },
    {
     "name": "stderr",
     "output_type": "stream",
     "text": [
      "FID  : 100%|██████████| 7/7 [00:01<00:00,  6.22it/s]\n"
     ]
    },
    {
     "name": "stdout",
     "output_type": "stream",
     "text": [
      "rrrrrrrrrr 88 214 (2048,) (2048,)\n",
      "compute FID between two folders\n",
      "Found 88 images in the folder results/grumpycat_CUT/test_370/images/fake_B/\n"
     ]
    },
    {
     "name": "stderr",
     "output_type": "stream",
     "text": [
      "FID  : 100%|██████████| 3/3 [00:01<00:00,  2.66it/s]\n"
     ]
    },
    {
     "name": "stdout",
     "output_type": "stream",
     "text": [
      "Found 214 images in the folder test/testB/\n"
     ]
    },
    {
     "name": "stderr",
     "output_type": "stream",
     "text": [
      "FID  : 100%|██████████| 7/7 [00:01<00:00,  6.30it/s]\n"
     ]
    },
    {
     "name": "stdout",
     "output_type": "stream",
     "text": [
      "rrrrrrrrrr 88 214 (2048,) (2048,)\n",
      "compute FID between two folders\n",
      "Found 88 images in the folder results/grumpycat_CUT/test_375/images/fake_B/\n"
     ]
    },
    {
     "name": "stderr",
     "output_type": "stream",
     "text": [
      "FID  : 100%|██████████| 3/3 [00:01<00:00,  2.66it/s]\n"
     ]
    },
    {
     "name": "stdout",
     "output_type": "stream",
     "text": [
      "Found 214 images in the folder test/testB/\n"
     ]
    },
    {
     "name": "stderr",
     "output_type": "stream",
     "text": [
      "FID  : 100%|██████████| 7/7 [00:01<00:00,  6.26it/s]\n"
     ]
    },
    {
     "name": "stdout",
     "output_type": "stream",
     "text": [
      "rrrrrrrrrr 88 214 (2048,) (2048,)\n",
      "compute FID between two folders\n",
      "Found 88 images in the folder results/grumpycat_CUT/test_380/images/fake_B/\n"
     ]
    },
    {
     "name": "stderr",
     "output_type": "stream",
     "text": [
      "FID  : 100%|██████████| 3/3 [00:01<00:00,  2.66it/s]\n"
     ]
    },
    {
     "name": "stdout",
     "output_type": "stream",
     "text": [
      "Found 214 images in the folder test/testB/\n"
     ]
    },
    {
     "name": "stderr",
     "output_type": "stream",
     "text": [
      "FID  : 100%|██████████| 7/7 [00:01<00:00,  6.04it/s]\n"
     ]
    },
    {
     "name": "stdout",
     "output_type": "stream",
     "text": [
      "rrrrrrrrrr 88 214 (2048,) (2048,)\n",
      "compute FID between two folders\n",
      "Found 88 images in the folder results/grumpycat_CUT/test_385/images/fake_B/\n"
     ]
    },
    {
     "name": "stderr",
     "output_type": "stream",
     "text": [
      "FID  : 100%|██████████| 3/3 [00:01<00:00,  2.63it/s]\n"
     ]
    },
    {
     "name": "stdout",
     "output_type": "stream",
     "text": [
      "Found 214 images in the folder test/testB/\n"
     ]
    },
    {
     "name": "stderr",
     "output_type": "stream",
     "text": [
      "FID  : 100%|██████████| 7/7 [00:01<00:00,  6.37it/s]\n"
     ]
    },
    {
     "name": "stdout",
     "output_type": "stream",
     "text": [
      "rrrrrrrrrr 88 214 (2048,) (2048,)\n",
      "compute FID between two folders\n",
      "Found 88 images in the folder results/grumpycat_CUT/test_390/images/fake_B/\n"
     ]
    },
    {
     "name": "stderr",
     "output_type": "stream",
     "text": [
      "FID  : 100%|██████████| 3/3 [00:01<00:00,  2.63it/s]\n"
     ]
    },
    {
     "name": "stdout",
     "output_type": "stream",
     "text": [
      "Found 214 images in the folder test/testB/\n"
     ]
    },
    {
     "name": "stderr",
     "output_type": "stream",
     "text": [
      "FID  : 100%|██████████| 7/7 [00:01<00:00,  6.17it/s]\n"
     ]
    },
    {
     "name": "stdout",
     "output_type": "stream",
     "text": [
      "rrrrrrrrrr 88 214 (2048,) (2048,)\n",
      "compute FID between two folders\n",
      "Found 88 images in the folder results/grumpycat_CUT/test_395/images/fake_B/\n"
     ]
    },
    {
     "name": "stderr",
     "output_type": "stream",
     "text": [
      "FID  : 100%|██████████| 3/3 [00:01<00:00,  2.64it/s]\n"
     ]
    },
    {
     "name": "stdout",
     "output_type": "stream",
     "text": [
      "Found 214 images in the folder test/testB/\n"
     ]
    },
    {
     "name": "stderr",
     "output_type": "stream",
     "text": [
      "FID  : 100%|██████████| 7/7 [00:01<00:00,  6.07it/s]\n"
     ]
    },
    {
     "name": "stdout",
     "output_type": "stream",
     "text": [
      "rrrrrrrrrr 88 214 (2048,) (2048,)\n",
      "compute FID between two folders\n",
      "Found 88 images in the folder results/grumpycat_CUT/test_400/images/fake_B/\n"
     ]
    },
    {
     "name": "stderr",
     "output_type": "stream",
     "text": [
      "FID  : 100%|██████████| 3/3 [00:01<00:00,  2.65it/s]\n"
     ]
    },
    {
     "name": "stdout",
     "output_type": "stream",
     "text": [
      "Found 214 images in the folder test/testB/\n"
     ]
    },
    {
     "name": "stderr",
     "output_type": "stream",
     "text": [
      "FID  : 100%|██████████| 7/7 [00:01<00:00,  6.09it/s]\n"
     ]
    },
    {
     "name": "stdout",
     "output_type": "stream",
     "text": [
      "rrrrrrrrrr 88 214 (2048,) (2048,)\n"
     ]
    }
   ],
   "source": [
    "q = []\n",
    "w = []\n",
    "for i in range(80):\n",
    "    #path1 = 'results/grumpifycat_CUT/test_'+str((i+1)*5)+'/images/fakeA/'\n",
    "    path2 = 'results/grumpycat_CUT/test_'+str((i+1)*5)+'/images/fake_B/'\n",
    "\n",
    "    #q += [fid.compute_fid(path1, 'test/testA/')]\n",
    "    w += [fid.compute_fid(path2, 'test/testB/')]"
   ]
  },
  {
   "cell_type": "code",
   "execution_count": 18,
   "metadata": {},
   "outputs": [
    {
     "name": "stdout",
     "output_type": "stream",
     "text": [
      "results/grumpycat_CUT/test_400/images/fake_B/\n"
     ]
    }
   ],
   "source": [
    "print(path2)"
   ]
  },
  {
   "cell_type": "code",
   "execution_count": 19,
   "metadata": {},
   "outputs": [],
   "source": [
    "epoch = []\n",
    "for i in range(80):\n",
    "    epoch += [(i+1)*5]"
   ]
  },
  {
   "cell_type": "code",
   "execution_count": 20,
   "metadata": {},
   "outputs": [
    {
     "name": "stdout",
     "output_type": "stream",
     "text": [
      "[174.69172829636935, 171.95943836709884, 183.93977050816252, 160.03769480993316, 179.81352444323403, 155.85268597421398, 129.9160754252789, 147.52795210623032, 118.17763137534403, 143.27554896237817, 132.815034578726, 124.3176606977656, 104.96627198404883, 118.88276108006539, 98.09024876028776, 84.76563934668289, 157.06108507211937, 104.21486561450764, 81.74620468581057, 109.4768601051748, 93.65782213031449, 90.71952780374605, 93.18380853193524, 74.01773650392394, 85.75494097060447, 83.2721194200482, 70.70856728228013, 89.68549034128313, 81.10962663031354, 76.17182339422803, 75.10615863804989, 76.57580092505071, 75.11719820069504, 93.70113701883457, 73.7329472249943, 71.3459757699446, 71.86222708890517, 71.5156288708415, 66.11201232348961, 72.80590656465874, 146.8754526949353, 71.91640776353425, 69.89720021237503, 70.50996953616327, 66.51888389642497, 75.88593147137189, 66.55834891828208, 65.59241562082256, 71.7039001589293, 67.3906905253693, 67.24676704458139, 66.29567402934427, 69.11539092022642, 73.43024353104221, 69.2385101319782, 63.93779979563, 63.96111777723709, 70.5896792566484, 66.74061270654785, 67.82351654397746, 65.16067485037311, 69.24920549143766, 71.43165624682638, 69.00222339796187, 65.70232850711292, 68.22586483671722, 67.97592512747542, 66.41827870900462, 65.50929170479202, 66.49502360656152, 64.46568356186458, 64.34583832405546, 66.63468950216927, 67.09569764020257, 66.9256677279959, 65.65580938427262, 66.32878185393739, 67.31948485794835, 66.76779255069486, 67.32691604108147]\n"
     ]
    }
   ],
   "source": [
    "#print(q)\n",
    "print(w)"
   ]
  },
  {
   "cell_type": "code",
   "execution_count": 21,
   "metadata": {},
   "outputs": [],
   "source": [
    "#w = [283.05267954683256, 193.87192821988157, 86.05525719910786, 89.70116524173841, 107.84107130077366, 65.30471844957593, 73.29165353659344, 72.70110777653223, 81.11216917483863, 88.11387488408764, 76.67301359623488, 73.86753588366142, 68.23431456484197, 67.10731607749806, 97.77504249747035, 49.22456822285196, 71.77101713621727, 67.06806327799221, 63.176827344944726, 54.787505357276686, 71.74975934104994, 80.18738385389847, 50.485215986069775, 82.88848046392161, 55.350848675105325, 67.82179683941278, 52.2998527116378, 63.67414701186006, 51.217030211331874, 59.01076778278818, 56.77081939009756, 56.07239921307814, 68.97851659700262, 51.90448305640294, 77.7360642573945, 54.029881388455394, 51.94108880543624, 93.87549010770893, 64.83290590413739, 71.22897958191209, 47.9746269345089, 66.09324554467398, 63.81473416992509, 72.26639591258225, 46.789721738363816, 130.9437404589575, 54.283854925957115, 80.29764927519702, 84.85374910183492, 76.03304840753508, 95.47954508892747, 56.04545862601785, 57.69490839591573, 56.30826431903745, 52.03704636793114, 48.199533726112094, 55.59555329266465, 53.74248157541759, 47.11601839699725, 52.33429766295693, 46.52103757185216, 51.228635106437224, 44.782798169993, 47.11230832072004, 48.59250575236409, 49.06134159841871, 47.84786182917136, 50.292369598801905, 45.82785689207849, 48.70488636341807, 48.22080158748632, 51.46198912278982, 50.218718085042944, 47.992501952056486, 47.90472043880081, 50.23692788251237, 49.845640396975696, 48.691361167561396, 50.47530983072086, 49.19463487436832]\n"
   ]
  },
  {
   "cell_type": "code",
   "execution_count": 22,
   "metadata": {},
   "outputs": [
    {
     "data": {
      "text/plain": [
       "[<matplotlib.lines.Line2D at 0x7b13b0d75fd0>]"
      ]
     },
     "execution_count": 22,
     "metadata": {},
     "output_type": "execute_result"
    },
    {
     "data": {
      "image/png": "[encoded data removed]",
      "text/plain": [
       "<Figure size 640x480 with 1 Axes>"
      ]
     },
     "metadata": {},
     "output_type": "display_data"
    }
   ],
   "source": [
    "import matplotlib.pyplot as plt\n",
    "plt.plot(epoch,w)"
   ]
  },
  {
   "cell_type": "code",
   "execution_count": 23,
   "metadata": {},
   "outputs": [
    {
     "data": {
      "text/plain": [
       "63.93779979563"
      ]
     },
     "execution_count": 23,
     "metadata": {},
     "output_type": "execute_result"
    }
   ],
   "source": [
    "import numpy as np\n",
    "min(w)\n",
    "# np.argmin(w)\n",
    "# w[62]"
   ]
  },
  {
   "cell_type": "code",
   "execution_count": null,
   "metadata": {},
   "outputs": [],
   "source": []
  },
  {
   "cell_type": "code",
   "execution_count": 24,
   "metadata": {},
   "outputs": [],
   "source": [
    "#plt.plot(epoch,q)"
   ]
  }
 ],
 "metadata": {
  "kernelspec": {
   "display_name": "cyce2",
   "language": "python",
   "name": "python3"
  },
  "language_info": {
   "codemirror_mode": {
    "name": "ipython",
    "version": 3
   },
   "file_extension": ".py",
   "mimetype": "text/x-python",
   "name": "python",
   "nbconvert_exporter": "python",
   "pygments_lexer": "ipython3",
   "version": "3.6.13"
  }
 },
 "nbformat": 4,
 "nbformat_minor": 2
}
